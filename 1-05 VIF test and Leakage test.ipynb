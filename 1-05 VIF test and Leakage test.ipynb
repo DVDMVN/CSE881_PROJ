{
 "cells": [
  {
   "cell_type": "markdown",
   "id": "9aeeccd7",
   "metadata": {},
   "source": [
    "# Collinearity and Leakage Test"
   ]
  },
  {
   "cell_type": "markdown",
   "id": "57ae8109",
   "metadata": {},
   "source": [
    "__Collinearity__  \n",
    "step 1 - Run the VIF -> drop the highest -> Repeat (Threshold VIF < 5)  \n",
    "\n",
    "__Leakage Test__  \n",
    "step 2 - Check p-value against the predictor for regression data. Check if p-value is suspiciously high.  \n",
    "step 3 - Run random forest against the data (can use default param). Check top 10 feature importance and determine if it's a leakage.  "
   ]
  }
 ],
 "metadata": {
  "language_info": {
   "name": "python"
  }
 },
 "nbformat": 4,
 "nbformat_minor": 5
}
