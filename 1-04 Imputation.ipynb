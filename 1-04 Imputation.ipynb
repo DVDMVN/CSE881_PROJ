{
 "cells": [
  {
   "cell_type": "markdown",
   "id": "57517d1a",
   "metadata": {},
   "source": [
    "# Imputation\n",
    "Random Forest imputation using sklearn iterativeimputer. MissForest doesn't allow to re-use the model to impute the test."
   ]
  },
  {
   "cell_type": "markdown",
   "id": "57ae8109",
   "metadata": {},
   "source": [
    "step 1 - encode both train/test   \n",
    "step 2 - train iterativeimputer random forest on train set only  \n",
    "step 3 - use trained imputation model on both train and test  "
   ]
  }
 ],
 "metadata": {
  "language_info": {
   "name": "python"
  }
 },
 "nbformat": 4,
 "nbformat_minor": 5
}
