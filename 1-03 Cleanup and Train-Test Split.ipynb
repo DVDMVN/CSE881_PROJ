{
 "cells": [
  {
   "cell_type": "markdown",
   "id": "72a5c19f",
   "metadata": {},
   "source": [
    "# Train-Test Split"
   ]
  },
  {
   "cell_type": "markdown",
   "id": "43294e44",
   "metadata": {},
   "source": [
    "Step 1 - Read merged_data_analysis.xlsx as tables, remove variables with IS_KEEP = FALSE  \n",
    "Step 2 - Merge data with diabetes_medication output  \n",
    "Step 3 - Split data into train-test  \n",
    "Step 4 - Perform distribution test, Kolgomorov-Smirnov for continuous, Chi-square for categorical  "
   ]
  }
 ],
 "metadata": {
  "language_info": {
   "name": "python"
  }
 },
 "nbformat": 4,
 "nbformat_minor": 5
}
