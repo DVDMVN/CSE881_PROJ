{
 "cells": [
  {
   "cell_type": "code",
   "execution_count": 1,
   "id": "ea256947",
   "metadata": {},
   "outputs": [],
   "source": [
    "import numpy as np\n",
    "import pandas as pd"
   ]
  },
  {
   "cell_type": "code",
   "execution_count": 2,
   "id": "6f69a9e7",
   "metadata": {},
   "outputs": [],
   "source": [
    "# convert XPT files to pandas dataframe\n",
    "def xpt_to_df(file_path):\n",
    "    df = pd.read_sas(file_path, format='xport', encoding='utf-8')\n",
    "    return df"
   ]
  },
  {
   "cell_type": "code",
   "execution_count": 3,
   "id": "9c4c052b",
   "metadata": {},
   "outputs": [],
   "source": [
    "nhanes_variable_mapping = {\n",
    "    # Demographics and Status\n",
    "    'SEQN': 'respondent_sequence_number',\n",
    "    'SDDSRVYR': 'data_release_cycle', \n",
    "    'RIDSTATR': 'interview_examination_status',\n",
    "    'RIAGENDR': 'gender',\n",
    "    'RIDAGEYR': 'age_years_screening',\n",
    "    'RIDAGEMN': 'age_months_screening_0_to_24',\n",
    "    'RIDRETH1': 'race_hispanic_origin',\n",
    "    'RIDRETH3': 'race_hispanic_origin_with_asian',\n",
    "    'RIDEXMON': 'six_month_exam_period',\n",
    "    'RIDEXAGM': 'age_months_exam_0_to_19_years',\n",
    "    'DMQMILIZ': 'served_active_duty_armed_forces',\n",
    "    'DMDBORN4': 'country_of_birth',\n",
    "    'DMDYRUSR': 'length_time_in_us',\n",
    "    'DMDEDUC2': 'education_level_adults_20_plus',\n",
    "    'DMDMARTZ': 'marital_status',\n",
    "    'RIDEXPRG': 'pregnancy_status_at_exam',\n",
    "    'DMDHHSIZ': 'total_people_in_household',\n",
    "    'DMDHRGND': 'household_ref_person_gender',\n",
    "    'DMDHRAGZ': 'household_ref_person_age',\n",
    "    'DMDHREDZ': 'household_ref_person_education',\n",
    "    'DMDHRMAZ': 'household_ref_person_marital_status',\n",
    "    'DMDHSEDZ': 'household_ref_person_spouse_education',\n",
    "    'WTINT2YR': 'full_sample_2year_interview_weight',\n",
    "    'WTMEC2YR': 'full_sample_2year_mec_exam_weight',\n",
    "    'SDMVSTRA': 'masked_variance_pseudo_stratum',\n",
    "    'SDMVPSU': 'masked_variance_pseudo_psu',\n",
    "    'INDFMPIR': 'ratio_family_income_to_poverty',\n",
    "    \n",
    "    # Body Measurements\n",
    "    'BMDSTATS': 'body_measures_component_status',\n",
    "    'BMXWT': 'weight_kg',\n",
    "    'BMIWT': 'weight_comment',\n",
    "    'BMXRECUM': 'recumbent_length_cm',\n",
    "    'BMIRECUM': 'recumbent_length_comment',\n",
    "    'BMXHEAD': 'head_circumference_cm',\n",
    "    'BMIHEAD': 'head_circumference_comment',\n",
    "    'BMXHT': 'standing_height_cm',\n",
    "    'BMIHT': 'standing_height_comment',\n",
    "    'BMXBMI': 'body_mass_index',\n",
    "    'BMDBMIC': 'bmi_category_children_youth',\n",
    "    'BMXLEG': 'upper_leg_length_cm',\n",
    "    'BMILEG': 'upper_leg_length_comment',\n",
    "    'BMXARML': 'upper_arm_length_cm',\n",
    "    'BMIARML': 'upper_arm_length_comment',\n",
    "    'BMXARMC': 'arm_circumference_cm',\n",
    "    'BMIARMC': 'arm_circumference_comment',\n",
    "    'BMXWAIST': 'waist_circumference_cm',\n",
    "    'BMIWAIST': 'waist_circumference_comment',\n",
    "    'BMXHIP': 'hip_circumference_cm',\n",
    "    'BMIHIP': 'hip_circumference_comment'\n",
    "}"
   ]
  },
  {
   "cell_type": "code",
   "execution_count": 5,
   "id": "7835f4a1",
   "metadata": {},
   "outputs": [],
   "source": [
    "# read data\n",
    "BMX_df_raw = xpt_to_df('INPUTS/UNPROCESSED/P_BMX.XPT')\n",
    "\n",
    "# BMX_df = BMX_df_raw.rename(columns=nhanes_variable_mapping)\n",
    "# BMX_df.head()\n",
    "\n",
    "DEMO_df = xpt_to_df('INPUTS/UNPROCESSED/P_DEMO.XPT')\n",
    "\n",
    "P_RXQ_RX_df = xpt_to_df('INPUTS/UNPROCESSED/P_RXQ_RX.XPT')\n",
    "\n",
    "import os\n",
    "os.makedirs('INPUTS/CSV', exist_ok=True)\n",
    "BMX_df_raw.to_csv('INPUTS/CSV/BMX_df.csv', index=False)\n",
    "DEMO_df.to_csv('INPUTS/CSV/DEMO_df.csv', index=False)\n",
    "P_RXQ_RX_df.to_csv('INPUTS/CSV/P_RXQ_RX_df.csv', index=False)"
   ]
  },
  {
   "cell_type": "code",
   "execution_count": null,
   "id": "645ffbeb",
   "metadata": {},
   "outputs": [],
   "source": [
    "# DSII = xpt_to_df('INPUTS/UNPROCESSED/DSII.XPT')"
   ]
  },
  {
   "cell_type": "code",
   "execution_count": null,
   "id": "5293a974",
   "metadata": {},
   "outputs": [],
   "source": [
    "# glm(....., weight=BMX_df['full_sample_2year_mec_exam_weight'], ...)"
   ]
  }
 ],
 "metadata": {
  "kernelspec": {
   "display_name": "Python 3",
   "language": "python",
   "name": "python3"
  },
  "language_info": {
   "codemirror_mode": {
    "name": "ipython",
    "version": 3
   },
   "file_extension": ".py",
   "mimetype": "text/x-python",
   "name": "python",
   "nbconvert_exporter": "python",
   "pygments_lexer": "ipython3",
   "version": "3.12.7"
  }
 },
 "nbformat": 4,
 "nbformat_minor": 5
}
